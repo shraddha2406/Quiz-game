{
 "cells": [
  {
   "cell_type": "code",
   "execution_count": 4,
   "id": "6017835b",
   "metadata": {},
   "outputs": [
    {
     "name": "stdout",
     "output_type": "stream",
     "text": [
      "Welcome to my Quiz Game!\n",
      "Do you wanna play? yes\n",
      "Okay! let's play!\n",
      "What does CPU stand for?:central processing unit\n",
      "correct!\n",
      "What does GPU stand for?:graphics processing unit\n",
      "correct!\n",
      "What does RAM stand for?:random access memory\n",
      "correct!\n",
      "What does PSU stand for? power supply\n",
      "Correct!\n",
      "You got 4 questions correct\n",
      "You got 100 %\n"
     ]
    }
   ],
   "source": [
    "print(\"Welcome to my Quiz Game!\")\n",
    "\n",
    "entry= input(\"Do you wanna play? \")\n",
    "\n",
    "if entry.lower()!=\"yes\":\n",
    "    quit()\n",
    "    \n",
    "print(\"Okay! let's play!\")\n",
    "score=0\n",
    "\n",
    "answer1=input(\"What does CPU stand for?:\")\n",
    "\n",
    "if answer1.lower()==\"central processing unit\":\n",
    "    print(\"correct!\")\n",
    "    score+=1\n",
    "    \n",
    "else:\n",
    "    print(\"incorrect!\")\n",
    "    \n",
    "answer2=input(\"What does GPU stand for?:\")\n",
    "\n",
    "if answer2.lower()==\"graphics processing unit\":\n",
    "    print(\"correct!\")\n",
    "    score+=1\n",
    "    \n",
    "else:\n",
    "    print(\"incorrect!\")\n",
    "    \n",
    "answer3=input(\"What does RAM stand for?:\")\n",
    "\n",
    "if answer3.lower()==\"random access memory\":\n",
    "    print(\"correct!\")\n",
    "    score+=1\n",
    "    \n",
    "else:\n",
    "    print(\"incorrect!\")\n",
    "    \n",
    "answer4 = input(\"What does PSU stand for? \")\n",
    "\n",
    "if answer4.lower() == \"power supply\":\n",
    "    print('Correct!')\n",
    "    score += 1\n",
    "    \n",
    "else:\n",
    "    print(\"Incorrect!\")\n",
    "\n",
    "print(\"You got \"+ str(score)+ \" questions correct\")\n",
    "print(\"You got \"+ str((score//4)*100)+ \" %\")"
   ]
  },
  {
   "cell_type": "code",
   "execution_count": null,
   "id": "4284c77b",
   "metadata": {},
   "outputs": [],
   "source": []
  }
 ],
 "metadata": {
  "kernelspec": {
   "display_name": "Python 3 (ipykernel)",
   "language": "python",
   "name": "python3"
  },
  "language_info": {
   "codemirror_mode": {
    "name": "ipython",
    "version": 3
   },
   "file_extension": ".py",
   "mimetype": "text/x-python",
   "name": "python",
   "nbconvert_exporter": "python",
   "pygments_lexer": "ipython3",
   "version": "3.9.7"
  }
 },
 "nbformat": 4,
 "nbformat_minor": 5
}
